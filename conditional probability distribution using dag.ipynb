{
  "cells": [
    {
      "cell_type": "markdown",
      "metadata": {
        "id": "view-in-github",
        "colab_type": "text"
      },
      "source": [
        "<a href=\"https://colab.research.google.com/github/HarshaSatyavardhan/assign---causal/blob/main/conditional%20probability%20distribution%20using%20dag.ipynb\" target=\"_parent\"><img src=\"https://colab.research.google.com/assets/colab-badge.svg\" alt=\"Open In Colab\"/></a>"
      ]
    },
    {
      "cell_type": "code",
      "source": [
        "!pip install pgmpy"
      ],
      "metadata": {
        "colab": {
          "base_uri": "https://localhost:8080/"
        },
        "id": "3RR1t7ZeuQbJ",
        "outputId": "8dc6cc81-0c8f-4123-93c0-92d5d3e210ad"
      },
      "execution_count": 1,
      "outputs": [
        {
          "output_type": "stream",
          "name": "stdout",
          "text": [
            "Installing collected packages: pgmpy\n",
            "Successfully installed pgmpy-0.1.21\n"
          ]
        }
      ]
    },
    {
      "cell_type": "code",
      "source": [
        "import pgmpy\n",
        "import pandas as pd\n",
        "from pgmpy.models import BayesianModel\n",
        "from pgmpy.estimators import BayesianEstimator"
      ],
      "metadata": {
        "id": "4pRxL9chuQZi"
      },
      "execution_count": 7,
      "outputs": []
    },
    {
      "cell_type": "code",
      "source": [
        "link = \"https://raw.githubusercontent.com/altdeep/causalML/master/datasets/transportation_survey.csv\""
      ],
      "metadata": {
        "id": "hNsF72CyuQXf"
      },
      "execution_count": 3,
      "outputs": []
    },
    {
      "cell_type": "code",
      "source": [
        "df = pd.read_csv(link)"
      ],
      "metadata": {
        "id": "wt1Fo9pEuQVH"
      },
      "execution_count": 5,
      "outputs": []
    },
    {
      "cell_type": "code",
      "source": [
        "df"
      ],
      "metadata": {
        "colab": {
          "base_uri": "https://localhost:8080/",
          "height": 419
        },
        "id": "aCdFwecbuQTB",
        "outputId": "492eaa5e-3420-4ba7-cc71-ae9cb093321b"
      },
      "execution_count": 6,
      "outputs": [
        {
          "output_type": "execute_result",
          "data": {
            "text/plain": [
              "         A  S     E    O      R      T\n",
              "0    adult  F  high  emp  small  train\n",
              "1    young  M  high  emp    big    car\n",
              "2    adult  M   uni  emp    big  other\n",
              "3      old  F   uni  emp    big    car\n",
              "4    young  F   uni  emp    big    car\n",
              "..     ... ..   ...  ...    ...    ...\n",
              "495  young  M  high  emp    big  other\n",
              "496  adult  M  high  emp    big    car\n",
              "497  young  M  high  emp  small  train\n",
              "498  young  M  high  emp  small    car\n",
              "499  adult  M  high  emp  small  other\n",
              "\n",
              "[500 rows x 6 columns]"
            ],
            "text/html": [
              "\n",
              "  <div id=\"df-018c8f92-fc2e-4084-8ae1-5ca076f0346b\">\n",
              "    <div class=\"colab-df-container\">\n",
              "      <div>\n",
              "<style scoped>\n",
              "    .dataframe tbody tr th:only-of-type {\n",
              "        vertical-align: middle;\n",
              "    }\n",
              "\n",
              "    .dataframe tbody tr th {\n",
              "        vertical-align: top;\n",
              "    }\n",
              "\n",
              "    .dataframe thead th {\n",
              "        text-align: right;\n",
              "    }\n",
              "</style>\n",
              "<table border=\"1\" class=\"dataframe\">\n",
              "  <thead>\n",
              "    <tr style=\"text-align: right;\">\n",
              "      <th></th>\n",
              "      <th>A</th>\n",
              "      <th>S</th>\n",
              "      <th>E</th>\n",
              "      <th>O</th>\n",
              "      <th>R</th>\n",
              "      <th>T</th>\n",
              "    </tr>\n",
              "  </thead>\n",
              "  <tbody>\n",
              "    <tr>\n",
              "      <th>0</th>\n",
              "      <td>adult</td>\n",
              "      <td>F</td>\n",
              "      <td>high</td>\n",
              "      <td>emp</td>\n",
              "      <td>small</td>\n",
              "      <td>train</td>\n",
              "    </tr>\n",
              "    <tr>\n",
              "      <th>1</th>\n",
              "      <td>young</td>\n",
              "      <td>M</td>\n",
              "      <td>high</td>\n",
              "      <td>emp</td>\n",
              "      <td>big</td>\n",
              "      <td>car</td>\n",
              "    </tr>\n",
              "    <tr>\n",
              "      <th>2</th>\n",
              "      <td>adult</td>\n",
              "      <td>M</td>\n",
              "      <td>uni</td>\n",
              "      <td>emp</td>\n",
              "      <td>big</td>\n",
              "      <td>other</td>\n",
              "    </tr>\n",
              "    <tr>\n",
              "      <th>3</th>\n",
              "      <td>old</td>\n",
              "      <td>F</td>\n",
              "      <td>uni</td>\n",
              "      <td>emp</td>\n",
              "      <td>big</td>\n",
              "      <td>car</td>\n",
              "    </tr>\n",
              "    <tr>\n",
              "      <th>4</th>\n",
              "      <td>young</td>\n",
              "      <td>F</td>\n",
              "      <td>uni</td>\n",
              "      <td>emp</td>\n",
              "      <td>big</td>\n",
              "      <td>car</td>\n",
              "    </tr>\n",
              "    <tr>\n",
              "      <th>...</th>\n",
              "      <td>...</td>\n",
              "      <td>...</td>\n",
              "      <td>...</td>\n",
              "      <td>...</td>\n",
              "      <td>...</td>\n",
              "      <td>...</td>\n",
              "    </tr>\n",
              "    <tr>\n",
              "      <th>495</th>\n",
              "      <td>young</td>\n",
              "      <td>M</td>\n",
              "      <td>high</td>\n",
              "      <td>emp</td>\n",
              "      <td>big</td>\n",
              "      <td>other</td>\n",
              "    </tr>\n",
              "    <tr>\n",
              "      <th>496</th>\n",
              "      <td>adult</td>\n",
              "      <td>M</td>\n",
              "      <td>high</td>\n",
              "      <td>emp</td>\n",
              "      <td>big</td>\n",
              "      <td>car</td>\n",
              "    </tr>\n",
              "    <tr>\n",
              "      <th>497</th>\n",
              "      <td>young</td>\n",
              "      <td>M</td>\n",
              "      <td>high</td>\n",
              "      <td>emp</td>\n",
              "      <td>small</td>\n",
              "      <td>train</td>\n",
              "    </tr>\n",
              "    <tr>\n",
              "      <th>498</th>\n",
              "      <td>young</td>\n",
              "      <td>M</td>\n",
              "      <td>high</td>\n",
              "      <td>emp</td>\n",
              "      <td>small</td>\n",
              "      <td>car</td>\n",
              "    </tr>\n",
              "    <tr>\n",
              "      <th>499</th>\n",
              "      <td>adult</td>\n",
              "      <td>M</td>\n",
              "      <td>high</td>\n",
              "      <td>emp</td>\n",
              "      <td>small</td>\n",
              "      <td>other</td>\n",
              "    </tr>\n",
              "  </tbody>\n",
              "</table>\n",
              "<p>500 rows × 6 columns</p>\n",
              "</div>\n",
              "      <button class=\"colab-df-convert\" onclick=\"convertToInteractive('df-018c8f92-fc2e-4084-8ae1-5ca076f0346b')\"\n",
              "              title=\"Convert this dataframe to an interactive table.\"\n",
              "              style=\"display:none;\">\n",
              "        \n",
              "  <svg xmlns=\"http://www.w3.org/2000/svg\" height=\"24px\"viewBox=\"0 0 24 24\"\n",
              "       width=\"24px\">\n",
              "    <path d=\"M0 0h24v24H0V0z\" fill=\"none\"/>\n",
              "    <path d=\"M18.56 5.44l.94 2.06.94-2.06 2.06-.94-2.06-.94-.94-2.06-.94 2.06-2.06.94zm-11 1L8.5 8.5l.94-2.06 2.06-.94-2.06-.94L8.5 2.5l-.94 2.06-2.06.94zm10 10l.94 2.06.94-2.06 2.06-.94-2.06-.94-.94-2.06-.94 2.06-2.06.94z\"/><path d=\"M17.41 7.96l-1.37-1.37c-.4-.4-.92-.59-1.43-.59-.52 0-1.04.2-1.43.59L10.3 9.45l-7.72 7.72c-.78.78-.78 2.05 0 2.83L4 21.41c.39.39.9.59 1.41.59.51 0 1.02-.2 1.41-.59l7.78-7.78 2.81-2.81c.8-.78.8-2.07 0-2.86zM5.41 20L4 18.59l7.72-7.72 1.47 1.35L5.41 20z\"/>\n",
              "  </svg>\n",
              "      </button>\n",
              "      \n",
              "  <style>\n",
              "    .colab-df-container {\n",
              "      display:flex;\n",
              "      flex-wrap:wrap;\n",
              "      gap: 12px;\n",
              "    }\n",
              "\n",
              "    .colab-df-convert {\n",
              "      background-color: #E8F0FE;\n",
              "      border: none;\n",
              "      border-radius: 50%;\n",
              "      cursor: pointer;\n",
              "      display: none;\n",
              "      fill: #1967D2;\n",
              "      height: 32px;\n",
              "      padding: 0 0 0 0;\n",
              "      width: 32px;\n",
              "    }\n",
              "\n",
              "    .colab-df-convert:hover {\n",
              "      background-color: #E2EBFA;\n",
              "      box-shadow: 0px 1px 2px rgba(60, 64, 67, 0.3), 0px 1px 3px 1px rgba(60, 64, 67, 0.15);\n",
              "      fill: #174EA6;\n",
              "    }\n",
              "\n",
              "    [theme=dark] .colab-df-convert {\n",
              "      background-color: #3B4455;\n",
              "      fill: #D2E3FC;\n",
              "    }\n",
              "\n",
              "    [theme=dark] .colab-df-convert:hover {\n",
              "      background-color: #434B5C;\n",
              "      box-shadow: 0px 1px 3px 1px rgba(0, 0, 0, 0.15);\n",
              "      filter: drop-shadow(0px 1px 2px rgba(0, 0, 0, 0.3));\n",
              "      fill: #FFFFFF;\n",
              "    }\n",
              "  </style>\n",
              "\n",
              "      <script>\n",
              "        const buttonEl =\n",
              "          document.querySelector('#df-018c8f92-fc2e-4084-8ae1-5ca076f0346b button.colab-df-convert');\n",
              "        buttonEl.style.display =\n",
              "          google.colab.kernel.accessAllowed ? 'block' : 'none';\n",
              "\n",
              "        async function convertToInteractive(key) {\n",
              "          const element = document.querySelector('#df-018c8f92-fc2e-4084-8ae1-5ca076f0346b');\n",
              "          const dataTable =\n",
              "            await google.colab.kernel.invokeFunction('convertToInteractive',\n",
              "                                                     [key], {});\n",
              "          if (!dataTable) return;\n",
              "\n",
              "          const docLinkHtml = 'Like what you see? Visit the ' +\n",
              "            '<a target=\"_blank\" href=https://colab.research.google.com/notebooks/data_table.ipynb>data table notebook</a>'\n",
              "            + ' to learn more about interactive tables.';\n",
              "          element.innerHTML = '';\n",
              "          dataTable['output_type'] = 'display_data';\n",
              "          await google.colab.output.renderOutput(dataTable, element);\n",
              "          const docLink = document.createElement('div');\n",
              "          docLink.innerHTML = docLinkHtml;\n",
              "          element.appendChild(docLink);\n",
              "        }\n",
              "      </script>\n",
              "    </div>\n",
              "  </div>\n",
              "  "
            ]
          },
          "metadata": {},
          "execution_count": 6
        }
      ]
    },
    {
      "cell_type": "code",
      "source": [
        "# data - 500 samples of six random variables in the causal dag\n"
      ],
      "metadata": {
        "id": "8FYzHKPCuQQ8"
      },
      "execution_count": null,
      "outputs": []
    },
    {
      "cell_type": "code",
      "source": [
        "model = BayesianModel([(\"A\", \"E\"), (\"S\", \"E\"), (\"E\", \"O\"), (\"E\", \"R\"), (\"O\", \"T\"), (\"R\", \"T\")])\n",
        "estimator = BayesianEstimator(model, df)\n",
        "\n",
        "cpd = estimator.estimate_cpd(\"T\", prior_type=\"dirichlet\", pseudo_counts=[[1, 1, 1, 1],\n",
        "                                                                         [1, 1, 1, 1],\n",
        "                                                                         [1, 1, 1, 1]])\n",
        "                                                                         \n",
        "\n",
        "print(cpd)"
      ],
      "metadata": {
        "colab": {
          "base_uri": "https://localhost:8080/"
        },
        "id": "cVdlVZzEuQOn",
        "outputId": "4eef31d3-292e-4051-8b98-bfa8039e0b17"
      },
      "execution_count": 11,
      "outputs": [
        {
          "output_type": "stream",
          "name": "stdout",
          "text": [
            "+----------+--------------------+-----+--------------------+----------+\n",
            "| O        | O(emp)             | ... | O(self)            | O(self)  |\n",
            "+----------+--------------------+-----+--------------------+----------+\n",
            "| R        | R(big)             | ... | R(big)             | R(small) |\n",
            "+----------+--------------------+-----+--------------------+----------+\n",
            "| T(car)   | 0.7007299270072993 | ... | 0.4166666666666667 | 0.5      |\n",
            "+----------+--------------------+-----+--------------------+----------+\n",
            "| T(other) | 0.1362530413625304 | ... | 0.3333333333333333 | 0.25     |\n",
            "+----------+--------------------+-----+--------------------+----------+\n",
            "| T(train) | 0.1630170316301703 | ... | 0.25               | 0.25     |\n",
            "+----------+--------------------+-----+--------------------+----------+\n"
          ]
        },
        {
          "output_type": "stream",
          "name": "stderr",
          "text": [
            "/usr/local/lib/python3.9/dist-packages/pgmpy/models/BayesianModel.py:8: FutureWarning: BayesianModel has been renamed to BayesianNetwork. Please use BayesianNetwork class, BayesianModel will be removed in future.\n",
            "  warnings.warn(\n"
          ]
        }
      ]
    },
    {
      "cell_type": "code",
      "source": [
        "cpd\n"
      ],
      "metadata": {
        "colab": {
          "base_uri": "https://localhost:8080/"
        },
        "id": "I5s65Bfg0Nv7",
        "outputId": "961b794a-f451-444a-8d9e-17c6a73fb27d"
      },
      "execution_count": 13,
      "outputs": [
        {
          "output_type": "execute_result",
          "data": {
            "text/plain": [
              "<TabularCPD representing P(T:3 | O:2, R:2) at 0x7fb42a24dd90>"
            ]
          },
          "metadata": {},
          "execution_count": 13
        }
      ]
    },
    {
      "cell_type": "code",
      "source": [],
      "metadata": {
        "id": "noWYGrHv0PGr"
      },
      "execution_count": null,
      "outputs": []
    }
  ],
  "metadata": {
    "colab": {
      "name": "Welcome To Colaboratory",
      "toc_visible": true,
      "provenance": [],
      "include_colab_link": true
    },
    "kernelspec": {
      "display_name": "Python 3",
      "name": "python3"
    }
  },
  "nbformat": 4,
  "nbformat_minor": 0
}